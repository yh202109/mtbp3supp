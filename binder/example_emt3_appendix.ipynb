{
 "cells": [
  {
   "cell_type": "markdown",
   "metadata": {},
   "source": [
    "# MedDRA Query - FMQs by FDA\n",
    "\n",
    "This is the Appendix section of the module `emt` documentation for FMQs."
   ]
  },
  {
   "cell_type": "markdown",
   "metadata": {},
   "source": [
    "## Appendix\n",
    "\n",
    "How to use:\n",
    "\n",
    "\n",
    "- Step 1: click the option \"&#9654;\" or \"&#9654; Run\" located above **Three(3)** times\n",
    "- Step 2: Select an FMQ below to see PTs included:"
   ]
  },
  {
   "cell_type": "code",
   "execution_count": null,
   "metadata": {},
   "outputs": [],
   "source": [
    "from mtbp3.health.emt import Emt\n",
    "from ipywidgets import widgets\n",
    "from IPython.display import clear_output\n",
    "\n",
    "emt = Emt(folder_name='')\n",
    "fmq_list = emt.find_fmq(fmq=[])\n",
    "dropdown = widgets.Dropdown(options=fmq_list, description='Select:', multiple=False)\n",
    "\n",
    "def on_dropdown_change(change):\n",
    "    clear_output()\n",
    "    display(dropdown)\n",
    "    print('\\n'.join(emt.show_fmq_tree(fmq_list[dropdown.index])))\n",
    "\n",
    "dropdown.observe(on_dropdown_change, names='value')\n",
    "display(dropdown)\n",
    "print('\\n'.join(emt.show_fmq_tree(fmq_list[0])))"
   ]
  }
 ],
 "metadata": {
  "kernelspec": {
   "display_name": "Python",
   "language": "python",
   "name": "python-3.10"
  },
  "language_info": {
   "file_extension": ".py",
   "mimetype": "application/python",
   "name": "julia",
   "version": "3.10"
  }
 },
 "nbformat": 4,
 "nbformat_minor": 2
}
